{
 "cells": [
  {
   "cell_type": "code",
   "execution_count": 1,
   "id": "0e42ffcd-2ca8-4c27-8227-e2c967c4a6be",
   "metadata": {},
   "outputs": [],
   "source": [
    "import rasterio\n",
    "from rasterio.enums import Resampling\n",
    "import numpy as np\n",
    "import matplotlib.pyplot as plt\n",
    "plt.style.use('ggplot')\n"
   ]
  },
  {
   "cell_type": "markdown",
   "id": "07cb2712-59cb-4052-b4ae-07272cd783ab",
   "metadata": {},
   "source": [
    "### Resizing and saving PRS imgs and GT (Chl-a maps)"
   ]
  },
  {
   "cell_type": "code",
   "execution_count": 6,
   "id": "fea69746-7658-454e-b839-d2e7e6e81ca2",
   "metadata": {},
   "outputs": [],
   "source": [
    "# Open the input file\n",
    "workdir=\"./data/inputs/intersected_inputs/\"\n",
    "\n",
    "list_ids = [1,2,4,6,10,13,17,18,19,21,23,24]\n",
    "\n",
    "OUT_PATH_PRS = workdir+\"PRS_imgs_300/\"\n",
    "OUT_PATH_GT = workdir+\"GT_30_no_anomalies/\"\n",
    "\n",
    "for idx in list_ids:\n",
    "        \n",
    "    with rasterio.open(workdir+f\"PRS_imgs/{str(idx)}.tif\") as src:\n",
    "\n",
    "        # Get the current metadata\n",
    "        meta = src.meta\n",
    "\n",
    "        # Update the metadata to reflect the new resolution\n",
    "        meta.update({\n",
    "            'transform': rasterio.Affine(meta['transform'].a * 10, meta['transform'].b, meta['transform'].c, \n",
    "                                         meta['transform'].d, meta['transform'].e * 10, meta['transform'].f),\n",
    "            'width': src.width // 10,\n",
    "            'height': src.height // 10,\n",
    "            'res': (meta['transform'].a * 10, meta['transform'].e * 10)\n",
    "        })\n",
    "\n",
    "        # Create the output file\n",
    "        with rasterio.open(OUT_PATH_PRS+f\"{str(idx)}.tif\", \"w\", **meta) as dst:\n",
    "\n",
    "            # Resample the data for each band\n",
    "            for i in range(1, src.count+1):\n",
    "                band = src.read(i, out_shape=(meta['height'], meta['width']), resampling=Resampling.nearest)\n",
    "                dst.write(band, i)\n",
    "       \n",
    "    ### GT_continuous\n",
    "    # Open the input file\n",
    "    with rasterio.open(workdir+f\"GT_300_no_anomalies/{str(idx)}.tif\") as src:\n",
    "\n",
    "        # Get the current metadata\n",
    "        meta = src.meta\n",
    "\n",
    "        # Update the metadata to reflect the new resolution\n",
    "        meta.update({\n",
    "            'transform': rasterio.Affine(meta['transform'].a / 10, meta['transform'].b, meta['transform'].c, \n",
    "                                         meta['transform'].d, meta['transform'].e / 10, meta['transform'].f),\n",
    "            'width': src.width * 10,\n",
    "            'height': src.height * 10,\n",
    "            'res': (meta['transform'].a / 10, meta['transform'].e / 10)\n",
    "        })\n",
    "\n",
    "        # Create the output file\n",
    "        with rasterio.open(OUT_PATH_GT+f\"{str(idx)}.tif\", \"w\", **meta) as dst:\n",
    "\n",
    "            # Resample the data using the nearest neighbor method\n",
    "            data = src.read(\n",
    "                out_shape=(src.count, meta['height'], meta['width']),\n",
    "                resampling=Resampling.nearest\n",
    "            )\n",
    "\n",
    "            # Write the data to the output file\n",
    "            dst.write(data)"
   ]
  },
  {
   "cell_type": "code",
   "execution_count": null,
   "id": "b848edca-19eb-4c45-b15e-60189350b003",
   "metadata": {},
   "outputs": [],
   "source": []
  }
 ],
 "metadata": {
  "kernelspec": {
   "display_name": "env_thesis",
   "language": "python",
   "name": "env_thesis"
  },
  "language_info": {
   "codemirror_mode": {
    "name": "ipython",
    "version": 3
   },
   "file_extension": ".py",
   "mimetype": "text/x-python",
   "name": "python",
   "nbconvert_exporter": "python",
   "pygments_lexer": "ipython3",
   "version": "3.10.9"
  }
 },
 "nbformat": 4,
 "nbformat_minor": 5
}
