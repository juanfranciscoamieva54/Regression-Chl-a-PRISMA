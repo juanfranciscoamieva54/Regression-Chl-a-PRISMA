{
 "cells": [
  {
   "cell_type": "code",
   "execution_count": 1,
   "id": "72c1db0d-3b62-48f5-80b5-180218b67046",
   "metadata": {
    "tags": []
   },
   "outputs": [
    {
     "name": "stderr",
     "output_type": "stream",
     "text": [
      "C:\\Users\\juanf\\AppData\\Local\\Temp\\ipykernel_19880\\3682096890.py:7: DeprecationWarning: Please use `convolve` from the `scipy.ndimage` namespace, the `scipy.ndimage.filters` namespace is deprecated.\n",
      "  from scipy.ndimage.filters import convolve\n"
     ]
    }
   ],
   "source": [
    "import rasterio as rio\n",
    "import numpy as np\n",
    "import matplotlib.pyplot as plt\n",
    "import time\n",
    "import pandas as pd\n",
    "\n",
    "from scipy.ndimage.filters import convolve\n",
    "\n",
    "from sklearn import svm\n",
    "from sklearn.ensemble import RandomForestRegressor\n",
    "from sklearn.model_selection import train_test_split\n",
    "\n",
    "from sklearn.decomposition import PCA,IncrementalPCA\n",
    "from sklearn.preprocessing import StandardScaler, MinMaxScaler"
   ]
  },
  {
   "cell_type": "markdown",
   "id": "862296ae-85e5-403e-94d5-2a25e21a86e3",
   "metadata": {
    "tags": []
   },
   "source": [
    "## EXPLANATION OF THE PARAMETERS TO BE SET:\n",
    "\n",
    "##### 1) \"exp_id\"\n",
    "    It is used to provide an identification to the experiments developed\n",
    "\n",
    "##### 2) \"GSD\": \n",
    "    This parameter refers to the Ground Sampling Distance of the inputs to be used. \n",
    "    \n",
    "    The possibleoptions are 30 or 300.\n",
    "\n",
    "##### 3) \"norm\"\n",
    "    It specifies the normalization technique to be applied:\n",
    "    \n",
    "    - Standard Scaling: The parameter must be set to \"Standard_30\" or \"Standard_300\" (depending the GSD of the input data), \n",
    "    - Min max scaling: If this normalization technique is desired the param must be set to \"minmax_300\" (just for 300 m GSD inputs), \n",
    "    - Normalization to reflectance units: the param should take the value \"reflectance\" (just for 300 m GSD inputs)\n",
    "\n",
    "##### 4) \"data_augm\"\n",
    "    Parameter which determines if data augmentation must be applied on the input data.\n",
    "    \n",
    "    Possible values: True or False\n",
    "\n",
    "##### 5) \"model_ml\"\n",
    "    This parameter is used to define the model typology to be considered. The options are \"SVR\" for\n",
    "    selecting Support Vector Regressor model and \"RF\" for choosing Random Forest Regressor Model.\n",
    "\n",
    "##### 6) Specific parameters of the ML models\n",
    "    For the SVR model can be set the following parameters: \n",
    "     \n",
    "        \"gamma\":This is the kernel coefficient for the RBF kernel and it determines\n",
    "        the shape of the decision boundary.\n",
    "\n",
    "        \"C\": Controls the width of the margin and how many data points are allowed to be misclassified.\n",
    "    \n",
    "    In the case of the RF model could be set: \n",
    "    \n",
    "        \"n_trees\": Number of decision trees.\n",
    "\n",
    "        \"min_leaf\": This parameter determines the minimum number of samples to be a leaf node of the tree (to take a decision).\n",
    "\n",
    "        \"mx_dep\": Maximum depth of each decision tree: By increasing its value is also possible to achieve more complex \n",
    "                models and then conduce to overfitting.\n"
   ]
  },
  {
   "cell_type": "markdown",
   "id": "6c174ae4-9167-40f0-a367-9dc88282ce6f",
   "metadata": {
    "tags": []
   },
   "source": [
    "## Params and Utils"
   ]
  },
  {
   "cell_type": "code",
   "execution_count": 40,
   "id": "679b86cb-e90f-4415-9b43-d43599ffbc2d",
   "metadata": {
    "tags": []
   },
   "outputs": [],
   "source": [
    "exp_id=\"SVR-4\"\n",
    "GSD=300 \n",
    "norm= \"Standard_300\" \n",
    "data_augm = False\n",
    "PCA_check=True \n",
    "model_ml = \"SVR\"\n",
    "\n",
    "gamma = 0.001 \n",
    "C = 15 \n",
    "n_trees = 1000\n",
    "min_leaf = 2\n",
    "mx_dep = 20"
   ]
  },
  {
   "cell_type": "code",
   "execution_count": 41,
   "id": "204f58d9-8987-4104-a8ce-6e23ce9c5e3b",
   "metadata": {
    "tags": []
   },
   "outputs": [],
   "source": [
    "workdir=\"./data/inputs/intersected_inputs/\""
   ]
  },
  {
   "cell_type": "code",
   "execution_count": 42,
   "id": "859dd585-4c42-4b03-8130-ef63a94f5fd5",
   "metadata": {
    "tags": []
   },
   "outputs": [],
   "source": [
    "def get_8_neighbors(img, kernel_type):\n",
    "    # define the 8-neighbor kernel\n",
    "    \n",
    "    if kernel_type ==\"normal\":\n",
    "        kernel = np.ones((3, 3))/9\n",
    "    \n",
    "    if kernel_type == \"sobel_x\":\n",
    "        kernel = np.array([[-1, 0, 1], \n",
    "                        [-2, 0, 2], \n",
    "                        [-1, 0, 1]])\n",
    "    if kernel_type == \"sobel_y\":\n",
    "        kernel = np.array([[-1, -2, -1], \n",
    "                        [ 0,  0,  0], \n",
    "                        [ 1,  2,  1]])\n",
    "    \n",
    "    # apply convolution to obtain the 8-neighbor pixels\n",
    "    neighbors = np.zeros_like(img)\n",
    "    for i in range(img.shape[0]):\n",
    "        neighbors[i] = convolve(img[i], kernel)\n",
    "\n",
    "    # repeat the neighbors 8 times and stack them\n",
    "    augmented_neighbors = np.concatenate([neighbors]*8, axis=1)\n",
    "    augmented = np.concatenate([img, augmented_neighbors], axis=1)\n",
    "\n",
    "    return augmented\n",
    "\n",
    "def to_vector(id,limit, mode):\n",
    "\n",
    "    if GSD==30:\n",
    "        labels_ras=rio.open(workdir+f\"GT_30_no_anomalies/{str(id)}.tif\")\n",
    "     \n",
    "    if GSD==300:\n",
    "        labels_ras=rio.open(workdir+f\"GT_300_no_anomalies/{str(id)}.tif\")\n",
    "          \n",
    "    labels_np=labels_ras.read()\n",
    "        \n",
    "    shape_labels=labels_np.shape  \n",
    "        \n",
    "    labels_np=np.moveaxis(labels_np, 0, 2)\n",
    "    \n",
    "    if GSD==30:\n",
    "        features_ras=rio.open(workdir+f\"PRS_imgs/{str(id)}.tif\")\n",
    "    \n",
    "    if GSD==300:\n",
    "        features_ras=rio.open(workdir+f\"PRS_imgs_300/{str(id)}.tif\")\n",
    "        \n",
    "    features_np=features_ras.read()\n",
    "    \n",
    "    features_np=features_np*(labels_np[:,:,0]!=0.)\n",
    "    \n",
    "    shape_features=features_np.shape\n",
    "    \n",
    "    features_np=features_np[:limit,:,:]\n",
    "    \n",
    "    if mode==\"train\" and data_augm:\n",
    "        features_normal=get_8_neighbors(features_np, \"normal\")\n",
    "        features_sobel_x=get_8_neighbors(features_np, \"sobel_x\")\n",
    "        features_sobel_y=get_8_neighbors(features_np, \"sobel_y\")\n",
    "        features_np = np.concatenate([features_normal, features_sobel_x, features_sobel_y], axis=1)\n",
    "        \n",
    "    features_np=np.moveaxis(features_np, 0, 2)\n",
    "    \n",
    "    features=np.reshape(features_np,(features_np.shape[0]*features_np.shape[1],features_np.shape[2]))\n",
    "    print(features.shape)\n",
    "    \n",
    "    labels=np.reshape(labels_np,(labels_np.shape[0]*labels_np.shape[1],labels_np.shape[2]))\n",
    "    print(labels.shape)\n",
    "    \n",
    "    if mode ==\"train\" and data_augm:\n",
    "        labels=np.concatenate([labels]*9*3, axis=0)\n",
    "        \n",
    "    return features, labels, shape_features, shape_labels "
   ]
  },
  {
   "cell_type": "markdown",
   "id": "29d39561-b09c-4759-8a58-900d516ed325",
   "metadata": {
    "tags": []
   },
   "source": [
    "## Preparing input data"
   ]
  },
  {
   "cell_type": "markdown",
   "id": "d9525f96-a798-44cc-ade8-84e1a1d5c4be",
   "metadata": {},
   "source": [
    "### Preparing train data"
   ]
  },
  {
   "cell_type": "code",
   "execution_count": 43,
   "id": "acf69e04-868a-409b-bada-eabcf025ee2c",
   "metadata": {
    "tags": []
   },
   "outputs": [],
   "source": [
    "list_train_ids = [1,2,6,10,13,17,18,19,21]"
   ]
  },
  {
   "cell_type": "code",
   "execution_count": 44,
   "id": "045a3224-e551-4cfd-8e9f-2910a554371d",
   "metadata": {
    "scrolled": true,
    "tags": []
   },
   "outputs": [
    {
     "name": "stdout",
     "output_type": "stream",
     "text": [
      "(12084, 230)\n",
      "(12084, 1)\n",
      "(10752, 230)\n",
      "(10752, 1)\n",
      "(7259, 230)\n",
      "(7259, 1)\n",
      "(14030, 230)\n",
      "(14030, 1)\n",
      "(6832, 230)\n",
      "(6832, 1)\n",
      "(11316, 230)\n",
      "(11316, 1)\n",
      "(5292, 230)\n",
      "(5292, 1)\n",
      "(15006, 230)\n",
      "(15006, 1)\n",
      "(15744, 230)\n",
      "(15744, 1)\n"
     ]
    }
   ],
   "source": [
    "a=pd.DataFrame()\n",
    "st_feat=[]\n",
    "length=0\n",
    "ids=[]\n",
    "start_arr=[]\n",
    "end_arr=[]\n",
    "shp_arr_ft=[]\n",
    "shp_arr_lbs=[]\n",
    "\n",
    "for idx,i in enumerate(list_train_ids):\n",
    "    \n",
    "    features, labels, shape_features, shape_labels=to_vector(i,230,\"train\")\n",
    "\n",
    "    ids.append(i)\n",
    "    shp_arr_ft.append(shape_features)\n",
    "    shp_arr_lbs.append(shape_labels)\n",
    "    start_arr.append(length)\n",
    "    length+=shape_labels[1]*shape_labels[2]\n",
    "    end_arr.append(length)\n",
    "    \n",
    "    if idx==0:\n",
    "        st_feat_train=features\n",
    "        st_lbs_train=labels\n",
    "    else:\n",
    "        st_feat_train=np.vstack([st_feat_train,features])\n",
    "        st_lbs_train=np.vstack([st_lbs_train,labels])\n",
    "        \n",
    "st_lbs_train = st_lbs_train.ravel()"
   ]
  },
  {
   "cell_type": "code",
   "execution_count": 45,
   "id": "b53d9318-e2db-4c84-b539-8adf5069b32b",
   "metadata": {
    "tags": []
   },
   "outputs": [
    {
     "data": {
      "text/html": [
       "<div>\n",
       "<style scoped>\n",
       "    .dataframe tbody tr th:only-of-type {\n",
       "        vertical-align: middle;\n",
       "    }\n",
       "\n",
       "    .dataframe tbody tr th {\n",
       "        vertical-align: top;\n",
       "    }\n",
       "\n",
       "    .dataframe thead th {\n",
       "        text-align: right;\n",
       "    }\n",
       "</style>\n",
       "<table border=\"1\" class=\"dataframe\">\n",
       "  <thead>\n",
       "    <tr style=\"text-align: right;\">\n",
       "      <th></th>\n",
       "      <th>id</th>\n",
       "      <th>start_idx</th>\n",
       "      <th>end_idx</th>\n",
       "      <th>shape_features</th>\n",
       "      <th>shape_labels</th>\n",
       "    </tr>\n",
       "  </thead>\n",
       "  <tbody>\n",
       "    <tr>\n",
       "      <th>0</th>\n",
       "      <td>1</td>\n",
       "      <td>0</td>\n",
       "      <td>12084</td>\n",
       "      <td>(230, 106, 114)</td>\n",
       "      <td>(1, 106, 114)</td>\n",
       "    </tr>\n",
       "    <tr>\n",
       "      <th>1</th>\n",
       "      <td>2</td>\n",
       "      <td>12084</td>\n",
       "      <td>22836</td>\n",
       "      <td>(230, 84, 128)</td>\n",
       "      <td>(1, 84, 128)</td>\n",
       "    </tr>\n",
       "    <tr>\n",
       "      <th>2</th>\n",
       "      <td>6</td>\n",
       "      <td>22836</td>\n",
       "      <td>30095</td>\n",
       "      <td>(230, 119, 61)</td>\n",
       "      <td>(1, 119, 61)</td>\n",
       "    </tr>\n",
       "    <tr>\n",
       "      <th>3</th>\n",
       "      <td>10</td>\n",
       "      <td>30095</td>\n",
       "      <td>44125</td>\n",
       "      <td>(230, 115, 122)</td>\n",
       "      <td>(1, 115, 122)</td>\n",
       "    </tr>\n",
       "    <tr>\n",
       "      <th>4</th>\n",
       "      <td>13</td>\n",
       "      <td>44125</td>\n",
       "      <td>50957</td>\n",
       "      <td>(230, 112, 61)</td>\n",
       "      <td>(1, 112, 61)</td>\n",
       "    </tr>\n",
       "    <tr>\n",
       "      <th>5</th>\n",
       "      <td>17</td>\n",
       "      <td>50957</td>\n",
       "      <td>62273</td>\n",
       "      <td>(230, 92, 123)</td>\n",
       "      <td>(1, 92, 123)</td>\n",
       "    </tr>\n",
       "    <tr>\n",
       "      <th>6</th>\n",
       "      <td>18</td>\n",
       "      <td>62273</td>\n",
       "      <td>67565</td>\n",
       "      <td>(230, 54, 98)</td>\n",
       "      <td>(1, 54, 98)</td>\n",
       "    </tr>\n",
       "    <tr>\n",
       "      <th>7</th>\n",
       "      <td>19</td>\n",
       "      <td>67565</td>\n",
       "      <td>82571</td>\n",
       "      <td>(230, 122, 123)</td>\n",
       "      <td>(1, 122, 123)</td>\n",
       "    </tr>\n",
       "    <tr>\n",
       "      <th>8</th>\n",
       "      <td>21</td>\n",
       "      <td>82571</td>\n",
       "      <td>98315</td>\n",
       "      <td>(230, 123, 128)</td>\n",
       "      <td>(1, 123, 128)</td>\n",
       "    </tr>\n",
       "  </tbody>\n",
       "</table>\n",
       "</div>"
      ],
      "text/plain": [
       "   id  start_idx  end_idx   shape_features   shape_labels\n",
       "0   1          0    12084  (230, 106, 114)  (1, 106, 114)\n",
       "1   2      12084    22836   (230, 84, 128)   (1, 84, 128)\n",
       "2   6      22836    30095   (230, 119, 61)   (1, 119, 61)\n",
       "3  10      30095    44125  (230, 115, 122)  (1, 115, 122)\n",
       "4  13      44125    50957   (230, 112, 61)   (1, 112, 61)\n",
       "5  17      50957    62273   (230, 92, 123)   (1, 92, 123)\n",
       "6  18      62273    67565    (230, 54, 98)    (1, 54, 98)\n",
       "7  19      67565    82571  (230, 122, 123)  (1, 122, 123)\n",
       "8  21      82571    98315  (230, 123, 128)  (1, 123, 128)"
      ]
     },
     "execution_count": 45,
     "metadata": {},
     "output_type": "execute_result"
    }
   ],
   "source": [
    "df_train = pd.DataFrame(list(zip(ids, start_arr ,end_arr,shp_arr_ft, shp_arr_lbs)),\n",
    "               columns =['id', 'start_idx', \"end_idx\",\"shape_features\",\"shape_labels\"])\n",
    "\n",
    "df_train"
   ]
  },
  {
   "cell_type": "markdown",
   "id": "4de639a4-eb4e-4ba2-8cd9-c7ab1e64d217",
   "metadata": {
    "tags": []
   },
   "source": [
    "### Preparing test data"
   ]
  },
  {
   "cell_type": "code",
   "execution_count": 47,
   "id": "34caa77f-0f7d-43ad-a6fa-5a8d8129ac6c",
   "metadata": {
    "tags": []
   },
   "outputs": [],
   "source": [
    "list_test_ids= [4,23,24]"
   ]
  },
  {
   "cell_type": "code",
   "execution_count": 48,
   "id": "209471b6-6986-4430-91e4-879040380f13",
   "metadata": {
    "tags": []
   },
   "outputs": [
    {
     "name": "stdout",
     "output_type": "stream",
     "text": [
      "(9744, 230)\n",
      "(9744, 1)\n",
      "(9920, 230)\n",
      "(9920, 1)\n",
      "(8850, 230)\n",
      "(8850, 1)\n"
     ]
    }
   ],
   "source": [
    "a=pd.DataFrame()\n",
    "st_feat=[]\n",
    "length=0\n",
    "ids=[]\n",
    "start_arr=[]\n",
    "end_arr=[]\n",
    "shp_arr_ft=[]\n",
    "shp_arr_lbs=[]\n",
    "\n",
    "for idx,i in enumerate(list_test_ids):\n",
    "    \n",
    "    features, labels, shape_features, shape_labels =to_vector(i,230,\"test\")\n",
    "    ids.append(i)\n",
    "    shp_arr_ft.append(shape_features)\n",
    "    shp_arr_lbs.append(shape_labels)\n",
    "    start_arr.append(length)\n",
    "    length+=shape_labels[1]*shape_labels[2]\n",
    "    end_arr.append(length)\n",
    "    \n",
    "    if idx==0:\n",
    "        st_feat_test=features\n",
    "        st_lbs_test=labels\n",
    "    else:\n",
    "        st_feat_test=np.vstack([st_feat_test,features])\n",
    "        st_lbs_test=np.vstack([st_lbs_test,labels])\n",
    "        \n",
    "st_lbs_test = st_lbs_test.ravel()"
   ]
  },
  {
   "cell_type": "code",
   "execution_count": 49,
   "id": "2fd4ba2a-3825-45c2-9495-eaea7e183416",
   "metadata": {
    "tags": []
   },
   "outputs": [
    {
     "data": {
      "text/html": [
       "<div>\n",
       "<style scoped>\n",
       "    .dataframe tbody tr th:only-of-type {\n",
       "        vertical-align: middle;\n",
       "    }\n",
       "\n",
       "    .dataframe tbody tr th {\n",
       "        vertical-align: top;\n",
       "    }\n",
       "\n",
       "    .dataframe thead th {\n",
       "        text-align: right;\n",
       "    }\n",
       "</style>\n",
       "<table border=\"1\" class=\"dataframe\">\n",
       "  <thead>\n",
       "    <tr style=\"text-align: right;\">\n",
       "      <th></th>\n",
       "      <th>id</th>\n",
       "      <th>start_idx</th>\n",
       "      <th>end_idx</th>\n",
       "      <th>shape_features</th>\n",
       "      <th>shape_labels</th>\n",
       "    </tr>\n",
       "  </thead>\n",
       "  <tbody>\n",
       "    <tr>\n",
       "      <th>0</th>\n",
       "      <td>4</td>\n",
       "      <td>0</td>\n",
       "      <td>9744</td>\n",
       "      <td>(230, 84, 116)</td>\n",
       "      <td>(1, 84, 116)</td>\n",
       "    </tr>\n",
       "    <tr>\n",
       "      <th>1</th>\n",
       "      <td>23</td>\n",
       "      <td>9744</td>\n",
       "      <td>19664</td>\n",
       "      <td>(230, 80, 124)</td>\n",
       "      <td>(1, 80, 124)</td>\n",
       "    </tr>\n",
       "    <tr>\n",
       "      <th>2</th>\n",
       "      <td>24</td>\n",
       "      <td>19664</td>\n",
       "      <td>28514</td>\n",
       "      <td>(230, 118, 75)</td>\n",
       "      <td>(1, 118, 75)</td>\n",
       "    </tr>\n",
       "  </tbody>\n",
       "</table>\n",
       "</div>"
      ],
      "text/plain": [
       "   id  start_idx  end_idx  shape_features  shape_labels\n",
       "0   4          0     9744  (230, 84, 116)  (1, 84, 116)\n",
       "1  23       9744    19664  (230, 80, 124)  (1, 80, 124)\n",
       "2  24      19664    28514  (230, 118, 75)  (1, 118, 75)"
      ]
     },
     "execution_count": 49,
     "metadata": {},
     "output_type": "execute_result"
    }
   ],
   "source": [
    "df_test = pd.DataFrame(list(zip(ids, start_arr ,end_arr,shp_arr_ft, shp_arr_lbs)),\n",
    "               columns =['id', 'start_idx', \"end_idx\",\"shape_features\",\"shape_labels\"])\n",
    "\n",
    "df_test"
   ]
  },
  {
   "cell_type": "code",
   "execution_count": 51,
   "id": "96ea87f1-2175-4694-ae53-7dbc72a13115",
   "metadata": {
    "tags": []
   },
   "outputs": [
    {
     "data": {
      "image/png": "[encoded data removed]",
      "text/plain": [
       "<Figure size 800x600 with 1 Axes>"
      ]
     },
     "metadata": {},
     "output_type": "display_data"
    }
   ],
   "source": [
    "from scipy import stats\n",
    "\n",
    "\n",
    "plt.style.use('ggplot')\n",
    "\n",
    "plt.figure(figsize=[8,6])\n",
    "\n",
    "# Generate two example data sets\n",
    "data1 = st_lbs_train[st_lbs_train!=0]\n",
    "data2 = st_lbs_test[st_lbs_test!=0]\n",
    "\n",
    "# Calculate the quantiles of the two data sets\n",
    "quantiles_data1 = np.linspace(0, 100, 100)\n",
    "quantiles_data2 = np.linspace(0, 100, 100)\n",
    "q1 = np.percentile(data1, quantiles_data1)\n",
    "q2 = np.percentile(data2, quantiles_data2)\n",
    "\n",
    "# Create the QQ plot\n",
    "plt.scatter(q1, q2)\n",
    "plt.xlabel('Quantiles - Train-val set [µg/L]', fontsize=16)\n",
    "plt.ylabel('Quantiles - Test set [µg/L]', fontsize=16)\n",
    "plt.title('QQ Plot',fontsize=20, fontname=\"Calibri\")\n",
    "plt.tick_params(axis='both', which='major', labelsize=14)\n",
    "plt.grid(True)\n",
    "\n",
    "# Add the reference diagonal line\n",
    "min_value = min(q1[0], q2[0])\n",
    "max_value = max(q1[-1], q2[-1])\n",
    "plt.plot([min_value, max_value], [min_value, max_value], color='blue', linestyle='dashed')\n",
    "\n",
    "# Calculate the R-squared value\n",
    "slope, intercept, r_value, p_value, std_err = stats.linregress(q1, q2)\n",
    "r_squared = r_value**2\n",
    "plt.text(0.05, 0.9, f'R2 = {r_squared:.3f}', transform=plt.gca().transAxes, fontname=\"Calibri\", fontsize=16)\n",
    "\n",
    "plt.savefig(f\"./output_results/data_split.jpg\")"
   ]
  },
  {
   "cell_type": "code",
   "execution_count": null,
   "id": "63e0e4a8-c558-464e-af1c-75efa6aab2d0",
   "metadata": {},
   "outputs": [],
   "source": [
    "fit_stack = np.vstack((st_feat_train,st_feat_test))"
   ]
  },
  {
   "cell_type": "code",
   "execution_count": 53,
   "id": "eacb46ce-73ba-4c43-be5d-98179b371f8a",
   "metadata": {
    "scrolled": true,
    "tags": []
   },
   "outputs": [],
   "source": [
    "if norm==\"Standard_300\":\n",
    "    scaler=StandardScaler()\n",
    "    scaler.fit(fit_stack)\n",
    "    \n",
    "if norm==\"minmax_300\":\n",
    "    scaler=MinMaxScaler()\n",
    "    scaler.fit(fit_stack) # calculo la media para poder hacer la transformacion\n",
    "\n",
    "if PCA_check==True and GSD==300:\n",
    "    pca = PCA(n_components=30)\n",
    "    pca.fit(fit_stack)\n",
    "    \n",
    "if norm==\"Standard_30\" and PCA_check==True and GSD==30:\n",
    "    # create a StandardScaler object to scale the data\n",
    "    scaler = StandardScaler()\n",
    "    # create an IncrementalPCA object\n",
    "    n_components = 30  # set the number of principal components\n",
    "    batch_size = 10000  # set the size of each batch\n",
    "    ipca = IncrementalPCA(n_components=n_components, batch_size=batch_size)\n",
    "    # loop through the dataset and fit the PCA model in batches\n",
    "    for X_batch in np.array_split(fit_stack, batch_size):\n",
    "        # scale the batch\n",
    "        scaler.partial_fit(X_batch)\n",
    "        # fit the batch to the PCA model\n",
    "        ipca.partial_fit(X_batch)\n",
    "        \n",
    "if norm==\"Standard_30\" and PCA_check==False and GSD==30:\n",
    "    # create a StandardScaler object to scale the data\n",
    "    scaler = StandardScaler()\n",
    "    batch_size = 10000  # set the size of each batch\n",
    "    for X_batch in np.array_split(fit_stack, batch_size):\n",
    "        # scale the batch\n",
    "        scaler.partial_fit(X_batch)"
   ]
  },
  {
   "cell_type": "markdown",
   "id": "f9887100-4b5b-471f-bb86-b5ca47d1f799",
   "metadata": {
    "tags": []
   },
   "source": [
    "## Model definition and training"
   ]
  },
  {
   "cell_type": "code",
   "execution_count": 54,
   "id": "f1c8019b-e3a8-4e34-86db-76476ae02ee7",
   "metadata": {},
   "outputs": [],
   "source": [
    "if norm==\"Standard_300\" or norm==\"minmax_300\" and GSD==300:\n",
    "    X_train_scaled=scaler.transform(st_feat_train)\n",
    "    if PCA_check==False:\n",
    "        X_train = X_train_scaled\n",
    "        \n",
    "if PCA_check==True and GSD==300:\n",
    "    X_train=pca.transform(X_train_scaled)\n",
    "\n",
    "if norm==\"Standard_30\" and PCA_check==True and GSD==30:\n",
    "    X_train_scaled=scaler.transform(st_feat_train)\n",
    "    X_train_transformed = np.zeros((len(X_train_scaled), 30))\n",
    "    for i in range(0, len(X_train_scaled), batch_size):\n",
    "        X_batch = X_train_scaled[i:i+batch_size]\n",
    "        X_batch_scaled = scaler.transform(X_batch)\n",
    "        X_train_transformed[i:i+batch_size] = ipca.transform(X_batch_scaled)\n",
    "    X_train = X_train_transformed\n",
    "\n",
    "if norm == \"Standard_30\" and PCA_check == False and GSD == 30:\n",
    "    batch_size = 1000\n",
    "    # Create a memory-mapped file with zeros\n",
    "    X_train_transformed = np.memmap(\"X_train_transformed.dat\", dtype='float32', mode='w+', shape=(len(st_feat_train), 230))\n",
    "    for i in range(0, len(X_train_transformed), batch_size):\n",
    "        X_batch = st_feat_train[i:i+batch_size]\n",
    "        X_batch_scaled = scaler.transform(X_batch)\n",
    "        # Write the scaled batch to the memory-mapped array\n",
    "        X_train_transformed[i:i+batch_size] = X_batch_scaled\n",
    "    # Assign the memory-mapped array to X_train\n",
    "    X_train = X_train_transformed\n",
    "\n",
    "if norm==\"reflectance\":\n",
    "    X_train_scaled=st_feat_train/2**16\n",
    "    X_train = X_train_scaled"
   ]
  },
  {
   "cell_type": "code",
   "execution_count": 55,
   "id": "0a6bf441-e62b-4e9b-9b61-b7e1d84225a2",
   "metadata": {
    "tags": []
   },
   "outputs": [],
   "source": [
    "stkd_fts = X_train[st_lbs_train!=0.]"
   ]
  },
  {
   "cell_type": "code",
   "execution_count": 56,
   "id": "2b7cc0ff-4111-4502-b9ec-f1bc0a51e921",
   "metadata": {
    "tags": []
   },
   "outputs": [],
   "source": [
    "stkd_lbs = st_lbs_train[st_lbs_train!=0.]"
   ]
  },
  {
   "cell_type": "code",
   "execution_count": 57,
   "id": "3ab42d40-474b-4a31-aaab-b764724ddc07",
   "metadata": {
    "tags": []
   },
   "outputs": [],
   "source": [
    "X = stkd_fts\n",
    "y = stkd_lbs"
   ]
  },
  {
   "cell_type": "code",
   "execution_count": 58,
   "id": "b144d721-ef30-43ae-8bde-071159263344",
   "metadata": {},
   "outputs": [],
   "source": [
    "X_train, X_val, y_train, y_val = train_test_split(X, y, test_size=0.2, random_state=42)"
   ]
  },
  {
   "cell_type": "code",
   "execution_count": 59,
   "id": "876b19ee-cff0-4cdb-ab1e-c883ed50b7f5",
   "metadata": {
    "tags": []
   },
   "outputs": [
    {
     "data": {
      "text/plain": [
       "Text(0.5, 1.0, 'original data')"
      ]
     },
     "execution_count": 59,
     "metadata": {},
     "output_type": "execute_result"
    },
    {
     "data": {
      "image/png": "[encoded data removed]",
      "text/plain": [
       "<Figure size 1500x700 with 1 Axes>"
      ]
     },
     "metadata": {},
     "output_type": "display_data"
    }
   ],
   "source": [
    "plt.figure(figsize=[15,7])\n",
    "plt.hist(y_train.ravel())\n",
    "plt.title(\"original data\")"
   ]
  },
  {
   "cell_type": "code",
   "execution_count": 60,
   "id": "9c085868-c096-4116-ae52-bf47df6395f3",
   "metadata": {
    "tags": []
   },
   "outputs": [],
   "source": [
    "if model_ml == \"SVR\":\n",
    "    clf =svm.SVR(kernel='rbf', gamma=gamma, C=C)\n",
    "if model_ml ==\"RF\":\n",
    "    clf = RandomForestRegressor(n_estimators = n_trees,min_samples_leaf=min_leaf, max_depth=mx_dep , random_state = 42)"
   ]
  },
  {
   "cell_type": "code",
   "execution_count": 61,
   "id": "156bc6be-30e7-416a-92c1-2511f2bcf443",
   "metadata": {},
   "outputs": [
    {
     "name": "stdout",
     "output_type": "stream",
     "text": [
      "0.00949766238530477 mins\n"
     ]
    }
   ],
   "source": [
    "st=time.time()\n",
    "clf.fit(X_train, y_train)\n",
    "et=time.time()\n",
    "print((et-st)/60, \"mins\")"
   ]
  },
  {
   "cell_type": "code",
   "execution_count": 62,
   "id": "e31f6339-4713-45ef-88b4-b41873fec317",
   "metadata": {},
   "outputs": [
    {
     "name": "stdout",
     "output_type": "stream",
     "text": [
      "R2: 20.92%\n"
     ]
    }
   ],
   "source": [
    "score = clf.score(X_val, y_val)\n",
    "print(\"R2: %.2f%%\" % (score * 100.0))"
   ]
  },
  {
   "cell_type": "code",
   "execution_count": 63,
   "id": "37817919-0998-48e3-b74d-a4378c49784b",
   "metadata": {},
   "outputs": [
    {
     "data": {
      "text/plain": [
       "['./models/SVR-4.joblib']"
      ]
     },
     "execution_count": 63,
     "metadata": {},
     "output_type": "execute_result"
    }
   ],
   "source": [
    "import joblib\n",
    "joblib.dump(clf, f\"./models/{exp_id}.joblib\")"
   ]
  },
  {
   "cell_type": "markdown",
   "id": "1f1685fb-257c-4ffa-8a52-128f0b5baae6",
   "metadata": {
    "tags": []
   },
   "source": [
    "## Inference"
   ]
  },
  {
   "cell_type": "code",
   "execution_count": 64,
   "id": "d5a32465-e9ac-4af4-83dd-2f425b4062cb",
   "metadata": {
    "tags": []
   },
   "outputs": [],
   "source": [
    "from sklearn.metrics import mean_absolute_error, mean_squared_error"
   ]
  },
  {
   "cell_type": "code",
   "execution_count": 65,
   "id": "ece42ec3-4359-4b88-ac96-06530a817634",
   "metadata": {},
   "outputs": [],
   "source": [
    "if norm==\"Standard_300\" or norm==\"minmax_300\" and GSD==300:\n",
    "    X_test_scaled=scaler.transform(st_feat_test)# Ahora si, escalo los datos y los normalizo\n",
    "    if PCA_check==False:\n",
    "        X_test = X_test_scaled\n",
    "        \n",
    "if PCA_check and GSD==300:\n",
    "    X_test=pca.transform(X_test_scaled)\n",
    "\n",
    "if norm==\"Standard_30\" and PCA_check and GSD==30:\n",
    "    X_test_scaled=scaler.transform(st_feat_test)\n",
    "    X_test_transformed = np.zeros((len(X_test_scaled), 30))\n",
    "    for i in range(0, len(X_test_scaled), batch_size):\n",
    "        X_batch = X_test_scaled[i:i+batch_size]\n",
    "        X_batch_scaled = scaler.transform(X_batch)\n",
    "        X_test_transformed[i:i+batch_size] = ipca.transform(X_batch_scaled)\n",
    "\n",
    "    X_test = X_test_transformed\n",
    "    \n",
    "if norm == \"Standard_30\" and PCA_check == False and GSD == 30:\n",
    "    batch_size = 1000\n",
    "    # Create a memory-mapped file with zeros\n",
    "    X_test_transformed = np.memmap(\"X_test_transformed.dat\", dtype='float32', mode='w+', shape=(len(st_feat_test), 230))\n",
    "    for i in range(0, len(X_test_transformed), batch_size):\n",
    "        X_batch = st_feat_test[i:i+batch_size]\n",
    "        X_batch_scaled = scaler.transform(X_batch)\n",
    "        # Write the scaled batch to the memory-mapped array\n",
    "        X_test_transformed[i:i+batch_size] = X_batch_scaled\n",
    "    # Assign the memory-mapped array to X_train\n",
    "    X_test = X_test_transformed\n",
    "    \n",
    "if norm==\"reflectance\":\n",
    "    X_test_scaled=st_feat_test/2**16\n",
    "    X_test = X_test_scaled"
   ]
  },
  {
   "cell_type": "code",
   "execution_count": 66,
   "id": "2912bec2-1da3-4562-8de7-d34a948373ba",
   "metadata": {
    "tags": []
   },
   "outputs": [],
   "source": [
    "test_preds = clf.predict(X_test.astype(\"float32\"))"
   ]
  },
  {
   "cell_type": "code",
   "execution_count": 67,
   "id": "744914a9-aa13-4aaf-92f0-e6a2e41b9dea",
   "metadata": {
    "tags": []
   },
   "outputs": [],
   "source": [
    "preds=np.array(test_preds)"
   ]
  },
  {
   "cell_type": "code",
   "execution_count": 68,
   "id": "1090fca7-1103-48c1-9c2e-f178c9c498a8",
   "metadata": {
    "tags": []
   },
   "outputs": [],
   "source": [
    "pred_masked=[]"
   ]
  },
  {
   "cell_type": "code",
   "execution_count": 69,
   "id": "94fb6f3b-a411-486b-9f4c-bc289b63c02c",
   "metadata": {
    "tags": []
   },
   "outputs": [
    {
     "name": "stdout",
     "output_type": "stream",
     "text": [
      "(1, 84, 116)\n",
      "(1, 80, 124)\n",
      "(1, 118, 75)\n"
     ]
    }
   ],
   "source": [
    "preds_arr=np.array([])\n",
    "mae_score=np.array([])\n",
    "rmse_score=np.array([])\n",
    "\n",
    "for i,r in df_test.iterrows():\n",
    "    id_img = r.id\n",
    "    start_idx=r.start_idx\n",
    "    end_idx=r.end_idx\n",
    "    shape_labels=r.shape_labels\n",
    "    reshaped_pred=np.reshape(preds[start_idx:end_idx],shape_labels)\n",
    "    \n",
    "    print(reshaped_pred.shape)\n",
    "    pred_metric=reshaped_pred[0]\n",
    "    gt=np.reshape(st_lbs_test[start_idx:end_idx],shape_labels)[0]\n",
    "    \n",
    "    pred_masked=np.reshape((reshaped_pred[0,:,:]),(shape_labels[1]*shape_labels[2],1))\n",
    "\n",
    "    if i==0:\n",
    "        pred_mask_arr=pred_masked\n",
    "        mae_score=mean_absolute_error(gt[gt!=0], pred_metric[gt!=0])\n",
    "        rmse_score=mean_squared_error(gt[gt!=0], pred_metric[gt!=0], squared=False)\n",
    "\n",
    "    else:\n",
    "        pred_mask_arr=np.vstack([pred_mask_arr,pred_masked])\n",
    "        mae_score=np.hstack([mae_score, mean_absolute_error(gt[gt!=0], pred_metric[gt!=0])])\n",
    "        rmse_score=np.hstack([rmse_score, mean_squared_error(gt[gt!=0], pred_metric[gt!=0], squared=False)])\n",
    "        \n",
    "    if GSD==300:\n",
    "        meta=rio.open(f\"./data/inputs/intersected_inputs/PRS_imgs_300/{id_img}.tif\").meta\n",
    "        \n",
    "    if GSD==30:\n",
    "        meta=rio.open(f\"./data/inputs/intersected_inputs/PRS_imgs/{id_img}.tif\").meta\n",
    "        \n",
    "    meta[\"count\"]=1\n",
    "    with rio.open(f\"./outputs_tifs/output tifs v2/id_{id_img}_exp_{exp_id}.tif\", mode=\"w\", **meta) as new_dataset:\n",
    "        new_dataset.write(np.clip(reshaped_pred,0,100))"
   ]
  },
  {
   "cell_type": "code",
   "execution_count": 71,
   "id": "9b6335cc-70c5-4b5b-8937-9e3c36dcf067",
   "metadata": {},
   "outputs": [
    {
     "data": {
      "text/plain": [
       "(array([0.534753  , 0.7157308 , 0.81607697]),\n",
       " 0.6888535900508622,\n",
       " array([0.68110749, 0.9640862 , 1.04317107]),\n",
       " 0.8961215865037432)"
      ]
     },
     "execution_count": 71,
     "metadata": {},
     "output_type": "execute_result"
    }
   ],
   "source": [
    "mae_score,mae_score.mean(), rmse_score,rmse_score.mean()"
   ]
  },
  {
   "cell_type": "code",
   "execution_count": 73,
   "id": "9303d716-52fd-4515-8211-625f5dd07dbf",
   "metadata": {
    "tags": []
   },
   "outputs": [
    {
     "data": {
      "image/png": "[encoded data removed]",
      "text/plain": [
       "<Figure size 1200x1200 with 18 Axes>"
      ]
     },
     "metadata": {},
     "output_type": "display_data"
    }
   ],
   "source": [
    "ls=16\n",
    "fs=20\n",
    "\n",
    "if GSD==300:\n",
    "\n",
    "    pred1=rio.open(f\"./outputs_tifs/output tifs v2/id_{str(list_test_ids[0])}_exp_{exp_id}.tif\").read()[0,:,:50]\n",
    "    pred2=rio.open(f\"./outputs_tifs/output tifs v2/id_{str(list_test_ids[1])}_exp_{exp_id}.tif\").read()[0,:,:60]\n",
    "    pred3=rio.open(f\"./outputs_tifs/output tifs v2/id_{str(list_test_ids[2])}_exp_{exp_id}.tif\").read()[0,:80,:]\n",
    "    \n",
    "    gt1=rio.open(f\"./data/inputs/intersected_inputs/GT_300_no_anomalies/{str(list_test_ids[0])}.tif\").read()[0,:,:50]\n",
    "    gt2=rio.open(f\"./data/inputs/intersected_inputs/GT_300_no_anomalies/{str(list_test_ids[1])}.tif\").read()[0,:,:60]\n",
    "    gt3=rio.open(f\"./data/inputs/intersected_inputs/GT_300_no_anomalies/{str(list_test_ids[2])}.tif\").read()[0,:80,:]\n",
    "\n",
    "if GSD==30:\n",
    "\n",
    "    pred1=rio.open(f\"./outputs_tifs/output tifs v2/id_{str(list_test_ids[0])}_exp_{exp_id}.tif\").read()[0,:,:500]\n",
    "    pred2=rio.open(f\"./outputs_tifs/output tifs v2/id_{str(list_test_ids[1])}_exp_{exp_id}.tif\").read()[0,:,:600]\n",
    "    pred3=rio.open(f\"./outputs_tifs/output tifs v2/id_{str(list_test_ids[2])}_exp_{exp_id}.tif\").read()[0,:800,:]\n",
    "\n",
    "    gt1=rio.open(f\"./data/inputs/intersected_inputs/GT_30_no_anomalies/{str(list_test_ids[0])}.tif\").read()[0,:,:500]\n",
    "    gt2=rio.open(f\"./data/inputs/intersected_inputs/GT_30_no_anomalies/{str(list_test_ids[1])}.tif\").read()[0,:,:600]\n",
    "    gt3=rio.open(f\"./data/inputs/intersected_inputs/GT_30_no_anomalies/{str(list_test_ids[2])}.tif\").read()[0,:800,:]\n",
    "\n",
    "    \n",
    "dif1=abs(gt1-pred1)\n",
    "dif2=abs(gt2-pred2)\n",
    "dif3=abs(gt3-pred3)\n",
    "\n",
    "plt.figure(figsize=[12,12])\n",
    "\n",
    "plt.subplot(3,3,1)\n",
    "im1 =plt.imshow(pred1*(gt1!=0), vmax=8)\n",
    "plt.title(f\"Pred. {str(list_test_ids[0])}\", fontsize=fs)\n",
    "cbar1 = plt.colorbar(im1)\n",
    "cbar1.ax.tick_params(labelsize=ls)\n",
    "plt.axis('off')\n",
    "\n",
    "plt.subplot(3,3,2)\n",
    "im2 =plt.imshow(pred2*(gt2!=0), vmax=8)\n",
    "plt.title(f\"Pred. {str(list_test_ids[1])}\", fontsize=fs)\n",
    "cbar2 = plt.colorbar(im2)\n",
    "cbar2.ax.tick_params(labelsize=ls)\n",
    "plt.axis('off')\n",
    "\n",
    "plt.subplot(3,3,3)\n",
    "im3 =plt.imshow(pred3*(gt3!=0), vmax=8)\n",
    "plt.title(f\"Pred. {str(list_test_ids[2])}\", fontsize=fs)\n",
    "cbar3 = plt.colorbar(im3)\n",
    "cbar3.ax.tick_params(labelsize=ls)\n",
    "plt.axis('off')\n",
    "\n",
    "plt.subplot(3,3,4)\n",
    "im4 = plt.imshow(gt1, vmax=8)\n",
    "plt.title(f\"GT {str(list_test_ids[0])}\", fontsize=fs)\n",
    "cbar4 = plt.colorbar(im4)\n",
    "cbar4.ax.tick_params(labelsize=ls)\n",
    "plt.axis('off')\n",
    "\n",
    "plt.subplot(3,3,5)\n",
    "im5 = plt.imshow(gt2, vmax=8)\n",
    "plt.title(f\"GT {str(list_test_ids[1])}\", fontsize=fs)\n",
    "cbar5 = plt.colorbar(im5)\n",
    "cbar5.ax.tick_params(labelsize=ls)\n",
    "plt.axis('off')\n",
    "\n",
    "plt.subplot(3,3,6)\n",
    "im6 = plt.imshow(gt3, vmax=8)\n",
    "plt.title(f\"GT {str(list_test_ids[2])}\", fontsize=fs)\n",
    "cbar6 = plt.colorbar(im6)\n",
    "cbar6.ax.tick_params(labelsize=ls)\n",
    "plt.axis('off')\n",
    "\n",
    "plt.subplot(3,3,7)\n",
    "im7 = plt.imshow(dif1*(gt1!=0), vmax=8)\n",
    "plt.title(f\"Abs. difference {str(list_test_ids[0])}\", fontsize=fs)\n",
    "cbar7 = plt.colorbar(im7)\n",
    "cbar7.ax.tick_params(labelsize=ls)\n",
    "plt.axis('off')\n",
    "\n",
    "plt.subplot(3,3,8)\n",
    "im8 = plt.imshow(dif2*(gt2!=0), vmax=8)\n",
    "plt.title(f\"Abs. difference {str(list_test_ids[1])}\", fontsize=fs)\n",
    "cbar8 = plt.colorbar(im8)\n",
    "cbar8.ax.tick_params(labelsize=ls)\n",
    "plt.axis('off')\n",
    "\n",
    "plt.subplot(3,3,9)\n",
    "im9 = plt.imshow(dif3*(gt3!=0), vmax=8)\n",
    "plt.title(f\"Abs. difference {str(list_test_ids[2])}\", fontsize=fs)\n",
    "cbar9 = plt.colorbar(im9)\n",
    "cbar9.ax.tick_params(labelsize=ls)\n",
    "plt.axis('off') \n",
    "\n",
    "plt.tight_layout()\n",
    "\n",
    "plt.savefig(f\"./output_results/results_{exp_id}_maps.jpg\")"
   ]
  },
  {
   "cell_type": "code",
   "execution_count": 74,
   "id": "d6291ac5-168e-4cd2-b843-912478678936",
   "metadata": {
    "tags": []
   },
   "outputs": [
    {
     "name": "stderr",
     "output_type": "stream",
     "text": [
      "C:\\Users\\juanf\\AppData\\Local\\Temp\\ipykernel_19880\\1858816670.py:18: MatplotlibDeprecationWarning: Auto-removal of overlapping axes is deprecated since 3.6 and will be removed two minor releases later; explicitly call ax.remove() as needed.\n",
      "  plt.subplot(1,3,1)\n"
     ]
    },
    {
     "data": {
      "image/png": "[encoded data removed]",
      "text/plain": [
       "<Figure size 1500x500 with 3 Axes>"
      ]
     },
     "metadata": {},
     "output_type": "display_data"
    }
   ],
   "source": [
    "plt.style.use('ggplot')\n",
    "\n",
    "fs=24\n",
    "\n",
    "dif1_check=(gt1-pred1)*(gt1!=0)\n",
    "dif1_check=dif1_check[dif1_check!=0]\n",
    "\n",
    "dif2_check=(gt2-pred2)*(gt2!=0)\n",
    "dif2_check=dif2_check[dif2_check!=0]\n",
    "\n",
    "dif3_check=(gt3-pred3)*(gt3!=0)\n",
    "dif3_check=dif3_check[dif3_check!=0]\n",
    "\n",
    "plt.figure(figsize=[15,5])\n",
    "\n",
    "plt.tick_params(axis='both', which='major', labelsize=25)\n",
    "\n",
    "plt.subplot(1,3,1)\n",
    "plt.hist(dif1_check, color=\"red\", density=True)\n",
    "plt.title(\"Test case id: 4\",fontsize=fs, fontname=\"Calibri\")\n",
    "plt.axvline(dif1_check.mean(), color=\"#8be04e\", linestyle='dashed', linewidth=2)\n",
    "plt.xlabel(\"[µg/L]\", fontname='Calibri', fontsize=24)\n",
    "plt.ylabel(\"Relative Frequency\", fontname='Calibri', fontsize=30)\n",
    "min_ylim, max_ylim = plt.ylim()\n",
    "plt.text(dif2_check.mean(), max_ylim*0.9 , 'Mean: {:.2f}'.format(dif2_check.mean()), bbox=dict(facecolor='white', alpha=0.9), fontname=\"Calibri\", fontsize=20)\n",
    "plt.tick_params(axis='both', which='major', labelsize=16)\n",
    "\n",
    "plt.subplot(1,3,2)\n",
    "plt.hist(dif2_check, color=\"green\", density=True)\n",
    "plt.title(\"Test case id: 23\",fontsize=fs, fontname=\"Calibri\")\n",
    "plt.xlabel(\"[µg/L]\", fontname='Calibri', fontsize=24)\n",
    "plt.axvline(dif2_check.mean(), color=\"#8be04e\", linestyle='dashed', linewidth=2)\n",
    "min_ylim, max_ylim = plt.ylim()\n",
    "plt.text(dif2_check.mean()*1.2, max_ylim*0.9 , 'Mean: {:.2f}'.format(dif2_check.mean()), bbox=dict(facecolor='white', alpha=0.9), fontname=\"Calibri\", fontsize=20)\n",
    "plt.tick_params(axis='both', which='major', labelsize=16)\n",
    "\n",
    "plt.subplot(1,3,3)\n",
    "plt.hist(dif3_check, color=\"#4421af\", density=True)\n",
    "plt.title(\"Test case id: 24\",fontsize=fs, fontname=\"Calibri\")\n",
    "plt.xlabel(\"[µg/L]\", fontname='Calibri', fontsize=24)\n",
    "plt.axvline(dif3_check.mean(), color=\"#8be04e\", linestyle='dashed', linewidth=2)\n",
    "min_ylim, max_ylim = plt.ylim()\n",
    "plt.text(dif3_check.mean()*1.2, max_ylim*0.9 , 'Mean: {:.2f}'.format(dif3_check.mean()), bbox=dict(facecolor='white', alpha=0.9), fontname=\"Calibri\", fontsize=20)\n",
    "plt.tick_params(axis='both', which='major', labelsize=16)\n",
    "\n",
    "plt.tight_layout()\n",
    "\n",
    "plt.savefig(f\"./output_results/results_{exp_id}.jpg\")"
   ]
  },
  {
   "cell_type": "markdown",
   "id": "018453fc-f215-4a20-9d9b-79d4a9d534b8",
   "metadata": {},
   "source": [
    "## Export results in CSV format"
   ]
  },
  {
   "cell_type": "code",
   "execution_count": 75,
   "id": "ff347f81-d7ec-4bf4-909f-186c21252ae6",
   "metadata": {},
   "outputs": [],
   "source": [
    "import csv\n",
    "\n",
    "# Define the data for the report\n",
    "data = [\n",
    "    {'exp_id': exp_id, 'Spatial resolution': GSD, 'Dimensionality reduction': PCA_check,\"Normalization technique\":norm,\n",
    "    \"gamma\": gamma, \"C\":C, \"n_trees\":n_trees, \"min_leaf\":min_leaf, \"mx_dep\":mx_dep,\"model_ml\":model_ml, \"MAE general\": mae_score.mean() , \"RMSE general\":rmse_score.mean(),\n",
    "     \"MAE 4\":mae_score[0], \"RMSE 4\":rmse_score[0], \"MAE 23\":mae_score[1],\"RMSE 23\":rmse_score[1] , \"MAE 24\":mae_score[2] ,\"RMSE 24\":rmse_score[2]}\n",
    "]\n",
    "\n",
    "# Open a new file and create a csv.writer object\n",
    "with open(f'./output_results/outputs_v2/results_{exp_id}.csv', mode='w', newline='') as file:\n",
    "    writer = csv.writer(file)\n",
    "\n",
    "    # Write the header row\n",
    "    writer.writerow(['exp_id', 'Spatial resolution', 'Dimensionality reduction', \"Normalization technique\",\n",
    "                    \"gamma\", \"C\", \"n_trees\", \"min_leaf\", \"mx_dep\",\"model_ml\", \"MAE general\", \"RMSE general\",\n",
    "                     \"MAE 4\", \"RMSE 4\", \"MAE 23\",\"RMSE 23\", \"MAE 24\",\"RMSE 24\"])\n",
    "\n",
    "    # Loop through the data and write each row to the CSV file\n",
    "    for row in data:\n",
    "        writer.writerow([row['exp_id'], row['Spatial resolution'], row['Dimensionality reduction'], \n",
    "                        row[\"Normalization technique\"], row[\"gamma\"],row[\"C\"],\n",
    "                        row[\"n_trees\"],row[\"min_leaf\"], row[\"mx_dep\"],row[\"model_ml\"],\n",
    "                        row[\"MAE general\"],row[\"RMSE general\"], row[\"MAE 4\"], row[\"RMSE 4\"], \n",
    "                        row[\"MAE 23\"],row[\"RMSE 23\"], row[\"MAE 24\"],row[\"RMSE 24\"]])"
   ]
  },
  {
   "cell_type": "code",
   "execution_count": null,
   "id": "d271f503-905c-4329-ad00-d1df71175286",
   "metadata": {},
   "outputs": [],
   "source": []
  },
  {
   "cell_type": "code",
   "execution_count": null,
   "id": "dd4c03c8-29bc-490a-ac61-421e92a7b5a9",
   "metadata": {},
   "outputs": [],
   "source": []
  },
  {
   "cell_type": "code",
   "execution_count": null,
   "id": "099ccda4-3fc6-4c67-93da-282cf80dd28f",
   "metadata": {},
   "outputs": [],
   "source": []
  }
 ],
 "metadata": {
  "kernelspec": {
   "display_name": "env_thesis",
   "language": "python",
   "name": "env_thesis"
  },
  "language_info": {
   "codemirror_mode": {
    "name": "ipython",
    "version": 3
   },
   "file_extension": ".py",
   "mimetype": "text/x-python",
   "name": "python",
   "nbconvert_exporter": "python",
   "pygments_lexer": "ipython3",
   "version": "3.10.9"
  }
 },
 "nbformat": 4,
 "nbformat_minor": 5
}
